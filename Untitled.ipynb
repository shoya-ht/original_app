{
 "cells": [
  {
   "cell_type": "code",
   "execution_count": 1,
   "metadata": {},
   "outputs": [
    {
     "name": "stderr",
     "output_type": "stream",
     "text": [
      "Using TensorFlow backend.\n",
      "/Users/shoya/opt/anaconda3/lib/python3.7/site-packages/tensorflow/python/framework/dtypes.py:526: FutureWarning: Passing (type, 1) or '1type' as a synonym of type is deprecated; in a future version of numpy, it will be understood as (type, (1,)) / '(1,)type'.\n",
      "  _np_qint8 = np.dtype([(\"qint8\", np.int8, 1)])\n",
      "/Users/shoya/opt/anaconda3/lib/python3.7/site-packages/tensorflow/python/framework/dtypes.py:527: FutureWarning: Passing (type, 1) or '1type' as a synonym of type is deprecated; in a future version of numpy, it will be understood as (type, (1,)) / '(1,)type'.\n",
      "  _np_quint8 = np.dtype([(\"quint8\", np.uint8, 1)])\n",
      "/Users/shoya/opt/anaconda3/lib/python3.7/site-packages/tensorflow/python/framework/dtypes.py:528: FutureWarning: Passing (type, 1) or '1type' as a synonym of type is deprecated; in a future version of numpy, it will be understood as (type, (1,)) / '(1,)type'.\n",
      "  _np_qint16 = np.dtype([(\"qint16\", np.int16, 1)])\n",
      "/Users/shoya/opt/anaconda3/lib/python3.7/site-packages/tensorflow/python/framework/dtypes.py:529: FutureWarning: Passing (type, 1) or '1type' as a synonym of type is deprecated; in a future version of numpy, it will be understood as (type, (1,)) / '(1,)type'.\n",
      "  _np_quint16 = np.dtype([(\"quint16\", np.uint16, 1)])\n",
      "/Users/shoya/opt/anaconda3/lib/python3.7/site-packages/tensorflow/python/framework/dtypes.py:530: FutureWarning: Passing (type, 1) or '1type' as a synonym of type is deprecated; in a future version of numpy, it will be understood as (type, (1,)) / '(1,)type'.\n",
      "  _np_qint32 = np.dtype([(\"qint32\", np.int32, 1)])\n",
      "/Users/shoya/opt/anaconda3/lib/python3.7/site-packages/tensorflow/python/framework/dtypes.py:535: FutureWarning: Passing (type, 1) or '1type' as a synonym of type is deprecated; in a future version of numpy, it will be understood as (type, (1,)) / '(1,)type'.\n",
      "  np_resource = np.dtype([(\"resource\", np.ubyte, 1)])\n"
     ]
    },
    {
     "name": "stdout",
     "output_type": "stream",
     "text": [
      "WARNING:tensorflow:From /Users/shoya/opt/anaconda3/lib/python3.7/site-packages/tensorflow/python/framework/op_def_library.py:263: colocate_with (from tensorflow.python.framework.ops) is deprecated and will be removed in a future version.\n",
      "Instructions for updating:\n",
      "Colocations handled automatically by placer.\n",
      "WARNING:tensorflow:From /Users/shoya/opt/anaconda3/lib/python3.7/site-packages/keras/backend/tensorflow_backend.py:3445: calling dropout (from tensorflow.python.ops.nn_ops) with keep_prob is deprecated and will be removed in a future version.\n",
      "Instructions for updating:\n",
      "Please use `rate` instead of `keep_prob`. Rate should be set to `rate = 1 - keep_prob`.\n",
      "WARNING:tensorflow:From /Users/shoya/opt/anaconda3/lib/python3.7/site-packages/tensorflow/python/ops/math_ops.py:3066: to_int32 (from tensorflow.python.ops.math_ops) is deprecated and will be removed in a future version.\n",
      "Instructions for updating:\n",
      "Use tf.cast instead.\n"
     ]
    },
    {
     "name": "stderr",
     "output_type": "stream",
     "text": [
      "/Users/shoya/opt/anaconda3/lib/python3.7/site-packages/ipykernel_launcher.py:83: UserWarning: Update your `Model` call to the Keras 2 API: `Model(inputs=Tensor(\"in..., outputs=Tensor(\"se...)`\n"
     ]
    },
    {
     "name": "stdout",
     "output_type": "stream",
     "text": [
      "Train on 323 samples, validate on 81 samples\n",
      "Epoch 1/10\n",
      "323/323 [==============================] - 23s 72ms/step - loss: 10.6532 - acc: 0.2477 - val_loss: 7.9615 - val_acc: 0.3951\n",
      "Epoch 2/10\n",
      "323/323 [==============================] - 21s 66ms/step - loss: 7.8668 - acc: 0.3994 - val_loss: 6.0473 - val_acc: 0.4938\n",
      "Epoch 3/10\n",
      "323/323 [==============================] - 21s 66ms/step - loss: 6.7559 - acc: 0.4830 - val_loss: 4.6237 - val_acc: 0.6049\n",
      "Epoch 4/10\n",
      "323/323 [==============================] - 25s 78ms/step - loss: 5.5799 - acc: 0.5449 - val_loss: 2.5819 - val_acc: 0.7407\n",
      "Epoch 5/10\n",
      "323/323 [==============================] - 26s 82ms/step - loss: 3.9178 - acc: 0.6347 - val_loss: 4.5086 - val_acc: 0.6173\n",
      "Epoch 6/10\n",
      "323/323 [==============================] - 23s 71ms/step - loss: 4.2280 - acc: 0.6285 - val_loss: 3.3195 - val_acc: 0.6543\n",
      "Epoch 7/10\n",
      "323/323 [==============================] - 23s 71ms/step - loss: 3.7548 - acc: 0.6347 - val_loss: 2.2778 - val_acc: 0.7284\n",
      "Epoch 8/10\n",
      "323/323 [==============================] - 25s 77ms/step - loss: 3.5745 - acc: 0.6130 - val_loss: 1.4757 - val_acc: 0.8025\n",
      "Epoch 9/10\n",
      "323/323 [==============================] - 22s 67ms/step - loss: 2.9514 - acc: 0.6533 - val_loss: 1.6582 - val_acc: 0.7531\n",
      "Epoch 10/10\n",
      "323/323 [==============================] - 21s 66ms/step - loss: 2.6905 - acc: 0.6440 - val_loss: 1.7370 - val_acc: 0.7160\n"
     ]
    }
   ],
   "source": [
    "import os\n",
    "import cv2\n",
    "import numpy as np\n",
    "import matplotlib.pyplot as plt\n",
    "from keras.utils.np_utils import to_categorical\n",
    "from keras.layers import Dense, Dropout, Flatten, Input\n",
    "from keras.applications.vgg16 import VGG16\n",
    "from keras.models import Model, Sequential\n",
    "from keras import optimizers\n",
    "number = 100\n",
    "\n",
    "# jupyter_contentsディレクトリで\n",
    "# $ jupyter notebook\n",
    "# としてjupyterを起動した場合、以下でファイルパスの取得ができます。\n",
    "path_pinapple = sorted([filename for filename in os.listdir('./fruits_photo/pinapple/') if not filename.startswith('.')])  \n",
    "path_grape = sorted([filename for filename in os.listdir('./fruits_photo/grape/') if not filename.startswith('.')])  \n",
    "path_banana = sorted([filename for filename in os.listdir('./fruits_photo/banana/') if not filename.startswith('.')])  \n",
    "path_pear = sorted([filename for filename in os.listdir('./fruits_photo/pear/') if not filename.startswith('.')])  \n",
    "path_mongo = sorted([filename for filename in os.listdir('./fruits_photo/mongo/') if not filename.startswith('.')])  \n",
    "\n",
    "\n",
    "img_pinapple = []\n",
    "img_grape = []\n",
    "img_banana = []\n",
    "img_pear = []\n",
    "img_mongo = []\n",
    "\n",
    "for i in range(len(path_pinapple)):\n",
    "    img = cv2.imread('./fruits_photo/pinapple/' + path_pinapple[i])\n",
    "    img = cv2.resize(img, (50,50))\n",
    "    img_pinapple.append(img)\n",
    "\n",
    "for i in range(len(path_grape)):\n",
    "    img = cv2.imread('./fruits_photo/grape/' + path_grape[i])\n",
    "    img = cv2.resize(img, (50,50))\n",
    "    img_grape.append(img)\n",
    "    \n",
    "for i in range(len(path_banana)):\n",
    "    img = cv2.imread('./fruits_photo/banana/' + path_banana[i])\n",
    "    img = cv2.resize(img, (50,50))\n",
    "    img_banana.append(img)\n",
    "    \n",
    "for i in range(len(path_pear)):\n",
    "    img = cv2.imread('./fruits_photo/pear/' + path_pear[i])\n",
    "    img = cv2.resize(img, (50,50))\n",
    "    img_pear.append(img)\n",
    "    \n",
    "for i in range(len(path_mongo)):\n",
    "    img = cv2.imread('./fruits_photo/mongo/' + path_mongo[i])\n",
    "    img = cv2.resize(img, (50,50))\n",
    "    img_mongo.append(img)\n",
    "    \n",
    "X = np.array(img_pinapple + img_grape + img_banana + img_pear + img_mongo)\n",
    "y =  np.array([0]*len(img_pinapple) + [1]*len(img_grape) +[2]*len(img_banana) + [3]*len(img_pear) + [4]*len(img_mongo))\n",
    "\n",
    "rand_index = np.random.permutation(np.arange(len(X)))\n",
    "X = X[rand_index]\n",
    "y = y[rand_index]\n",
    "\n",
    "# データの分割\n",
    "X_train = X[:int(len(X)*0.8)]\n",
    "y_train = y[:int(len(y)*0.8)]\n",
    "X_test = X[int(len(X)*0.8):]\n",
    "y_test = y[int(len(y)*0.8):]\n",
    "\n",
    "# 正解ラベルをone-hotの形にします\n",
    "y_train = to_categorical(y_train)\n",
    "y_test = to_categorical(y_test)\n",
    "\n",
    "# モデルにvggを使います\n",
    "input_tensor = Input(shape=(50, 50, 3))\n",
    "vgg16 = VGG16(include_top=False, weights='imagenet', input_tensor=input_tensor)\n",
    "\n",
    "# vggのoutputを受け取り、2クラス分類する層を定義します\n",
    "# その際中間層を下のようにいくつか入れると精度が上がります\n",
    "top_model = Sequential()\n",
    "top_model.add(Flatten(input_shape=vgg16.output_shape[1:]))\n",
    "top_model.add(Dense(256, activation='relu'))\n",
    "top_model.add(Dropout(0.5))\n",
    "top_model.add(Dense(5, activation='softmax'))\n",
    "\n",
    "# vggと、top_modelを連結します\n",
    "model = Model(input=vgg16.input, output=top_model(vgg16.output))\n",
    "\n",
    "# vggの層の重みを変更不能にします\n",
    "for layer in model.layers[:15]:\n",
    "    layer.trainable = False\n",
    "\n",
    "# コンパイルします\n",
    "model.compile(loss='categorical_crossentropy',\n",
    "              optimizer=optimizers.SGD(lr=1e-4, momentum=0.9),\n",
    "              metrics=['accuracy'])\n",
    "\n",
    "\n",
    "# 学習の実行\n",
    "model.fit(X_train, y_train, batch_size=100, epochs=10, validation_data=(X_test, y_test))\n",
    "model.save('model.h5')"
   ]
  },
  {
   "cell_type": "code",
   "execution_count": 2,
   "metadata": {},
   "outputs": [
    {
     "data": {
      "text/plain": [
       "'1.13.1'"
      ]
     },
     "execution_count": 2,
     "metadata": {},
     "output_type": "execute_result"
    }
   ],
   "source": [
    "import tensorflow \n",
    "tensorflow.__version__"
   ]
  },
  {
   "cell_type": "code",
   "execution_count": 3,
   "metadata": {},
   "outputs": [
    {
     "data": {
      "text/plain": [
       "'2.2.4'"
      ]
     },
     "execution_count": 3,
     "metadata": {},
     "output_type": "execute_result"
    }
   ],
   "source": [
    "import keras\n",
    "keras.__version__"
   ]
  },
  {
   "cell_type": "code",
   "execution_count": 9,
   "metadata": {},
   "outputs": [
    {
     "name": "stdout",
     "output_type": "stream",
     "text": [
      "Found existing installation: Keras 2.2.4\n",
      "Uninstalling Keras-2.2.4:\n",
      "  Would remove:\n",
      "    /Users/shoya/.pyenv/versions/3.7.5/lib/python3.7/site-packages/Keras-2.2.4.dist-info/*\n",
      "    /Users/shoya/.pyenv/versions/3.7.5/lib/python3.7/site-packages/docs/*\n",
      "    /Users/shoya/.pyenv/versions/3.7.5/lib/python3.7/site-packages/keras/*\n",
      "Proceed (y/n)? ^C\n",
      "\u001b[31mERROR: Operation cancelled by user\u001b[0m\n"
     ]
    }
   ],
   "source": [
    "! pip uninstall keras && pip install keras==2.2.4 && pip uninstall tensorflow && pip install tensorflow==1.13.1"
   ]
  },
  {
   "cell_type": "code",
   "execution_count": 10,
   "metadata": {},
   "outputs": [
    {
     "name": "stdout",
     "output_type": "stream",
     "text": [
      "Found existing installation: Keras 2.2.4\n",
      "Uninstalling Keras-2.2.4:\n",
      "  Successfully uninstalled Keras-2.2.4\n",
      "Collecting keras==2.2.4\n",
      "  Using cached Keras-2.2.4-py2.py3-none-any.whl (312 kB)\n",
      "Requirement already satisfied: h5py in /Users/shoya/.pyenv/versions/3.7.5/lib/python3.7/site-packages (from keras==2.2.4) (2.10.0)\n",
      "Requirement already satisfied: keras-preprocessing>=1.0.5 in /Users/shoya/.pyenv/versions/3.7.5/lib/python3.7/site-packages (from keras==2.2.4) (1.1.2)\n",
      "Requirement already satisfied: six>=1.9.0 in /Users/shoya/.pyenv/versions/3.7.5/lib/python3.7/site-packages (from keras==2.2.4) (1.15.0)\n",
      "Requirement already satisfied: pyyaml in /Users/shoya/.pyenv/versions/3.7.5/lib/python3.7/site-packages (from keras==2.2.4) (5.3.1)\n",
      "Requirement already satisfied: scipy>=0.14 in /Users/shoya/.pyenv/versions/3.7.5/lib/python3.7/site-packages (from keras==2.2.4) (1.4.1)\n",
      "Requirement already satisfied: numpy>=1.9.1 in /Users/shoya/.pyenv/versions/3.7.5/lib/python3.7/site-packages (from keras==2.2.4) (1.19.0)\n",
      "Requirement already satisfied: keras-applications>=1.0.6 in /Users/shoya/.pyenv/versions/3.7.5/lib/python3.7/site-packages (from keras==2.2.4) (1.0.8)\n",
      "Installing collected packages: keras\n",
      "Successfully installed keras-2.2.4\n",
      "Found existing installation: tensorflow 1.13.1\n",
      "Uninstalling tensorflow-1.13.1:\n",
      "  Successfully uninstalled tensorflow-1.13.1\n",
      "Collecting tensorflow==1.13.1\n",
      "  Using cached tensorflow-1.13.1-cp37-cp37m-macosx_10_11_x86_64.whl (73.6 MB)\n",
      "Requirement already satisfied: gast>=0.2.0 in /Users/shoya/.pyenv/versions/3.7.5/lib/python3.7/site-packages (from tensorflow==1.13.1) (0.3.3)\n",
      "Requirement already satisfied: tensorflow-estimator<1.14.0rc0,>=1.13.0 in /Users/shoya/.pyenv/versions/3.7.5/lib/python3.7/site-packages (from tensorflow==1.13.1) (1.13.0)\n",
      "Requirement already satisfied: astor>=0.6.0 in /Users/shoya/.pyenv/versions/3.7.5/lib/python3.7/site-packages (from tensorflow==1.13.1) (0.8.1)\n",
      "Requirement already satisfied: protobuf>=3.6.1 in /Users/shoya/.pyenv/versions/3.7.5/lib/python3.7/site-packages (from tensorflow==1.13.1) (3.12.2)\n",
      "Requirement already satisfied: wheel>=0.26 in /Users/shoya/.pyenv/versions/3.7.5/lib/python3.7/site-packages (from tensorflow==1.13.1) (0.34.2)\n",
      "Requirement already satisfied: grpcio>=1.8.6 in /Users/shoya/.pyenv/versions/3.7.5/lib/python3.7/site-packages (from tensorflow==1.13.1) (1.30.0)\n",
      "Requirement already satisfied: numpy>=1.13.3 in /Users/shoya/.pyenv/versions/3.7.5/lib/python3.7/site-packages (from tensorflow==1.13.1) (1.19.0)\n",
      "Requirement already satisfied: termcolor>=1.1.0 in /Users/shoya/.pyenv/versions/3.7.5/lib/python3.7/site-packages (from tensorflow==1.13.1) (1.1.0)\n",
      "Requirement already satisfied: tensorboard<1.14.0,>=1.13.0 in /Users/shoya/.pyenv/versions/3.7.5/lib/python3.7/site-packages (from tensorflow==1.13.1) (1.13.1)\n",
      "Requirement already satisfied: keras-applications>=1.0.6 in /Users/shoya/.pyenv/versions/3.7.5/lib/python3.7/site-packages (from tensorflow==1.13.1) (1.0.8)\n",
      "Requirement already satisfied: absl-py>=0.1.6 in /Users/shoya/.pyenv/versions/3.7.5/lib/python3.7/site-packages (from tensorflow==1.13.1) (0.9.0)\n",
      "Requirement already satisfied: six>=1.10.0 in /Users/shoya/.pyenv/versions/3.7.5/lib/python3.7/site-packages (from tensorflow==1.13.1) (1.15.0)\n",
      "Requirement already satisfied: keras-preprocessing>=1.0.5 in /Users/shoya/.pyenv/versions/3.7.5/lib/python3.7/site-packages (from tensorflow==1.13.1) (1.1.2)\n",
      "Requirement already satisfied: mock>=2.0.0 in /Users/shoya/.pyenv/versions/3.7.5/lib/python3.7/site-packages (from tensorflow-estimator<1.14.0rc0,>=1.13.0->tensorflow==1.13.1) (4.0.2)\n",
      "Requirement already satisfied: setuptools in /Users/shoya/.pyenv/versions/3.7.5/lib/python3.7/site-packages (from protobuf>=3.6.1->tensorflow==1.13.1) (41.2.0)\n",
      "Requirement already satisfied: werkzeug>=0.11.15 in /Users/shoya/.pyenv/versions/3.7.5/lib/python3.7/site-packages (from tensorboard<1.14.0,>=1.13.0->tensorflow==1.13.1) (1.0.1)\n",
      "Requirement already satisfied: markdown>=2.6.8 in /Users/shoya/.pyenv/versions/3.7.5/lib/python3.7/site-packages (from tensorboard<1.14.0,>=1.13.0->tensorflow==1.13.1) (3.2.2)\n",
      "Requirement already satisfied: h5py in /Users/shoya/.pyenv/versions/3.7.5/lib/python3.7/site-packages (from keras-applications>=1.0.6->tensorflow==1.13.1) (2.10.0)\n",
      "Requirement already satisfied: importlib-metadata; python_version < \"3.8\" in /Users/shoya/.pyenv/versions/3.7.5/lib/python3.7/site-packages (from markdown>=2.6.8->tensorboard<1.14.0,>=1.13.0->tensorflow==1.13.1) (1.7.0)\n",
      "Requirement already satisfied: zipp>=0.5 in /Users/shoya/.pyenv/versions/3.7.5/lib/python3.7/site-packages (from importlib-metadata; python_version < \"3.8\"->markdown>=2.6.8->tensorboard<1.14.0,>=1.13.0->tensorflow==1.13.1) (3.1.0)\n",
      "Installing collected packages: tensorflow\n",
      "Successfully installed tensorflow-1.13.1\n"
     ]
    }
   ],
   "source": [
    "! pip uninstall  -y keras && pip install  keras==2.2.4 && pip uninstall -y tensorflow && pip install tensorflow==1.13.1"
   ]
  },
  {
   "cell_type": "code",
   "execution_count": 11,
   "metadata": {},
   "outputs": [
    {
     "ename": "SyntaxError",
     "evalue": "invalid syntax (<ipython-input-11-328cc45e53ab>, line 1)",
     "output_type": "error",
     "traceback": [
      "\u001b[0;36m  File \u001b[0;32m\"<ipython-input-11-328cc45e53ab>\"\u001b[0;36m, line \u001b[0;32m1\u001b[0m\n\u001b[0;31m    python original.py\u001b[0m\n\u001b[0m                  ^\u001b[0m\n\u001b[0;31mSyntaxError\u001b[0m\u001b[0;31m:\u001b[0m invalid syntax\n"
     ]
    }
   ],
   "source": [
    "python original.py"
   ]
  },
  {
   "cell_type": "code",
   "execution_count": null,
   "metadata": {},
   "outputs": [],
   "source": []
  }
 ],
 "metadata": {
  "kernelspec": {
   "display_name": "Python 3",
   "language": "python",
   "name": "python3"
  },
  "language_info": {
   "codemirror_mode": {
    "name": "ipython",
    "version": 3
   },
   "file_extension": ".py",
   "mimetype": "text/x-python",
   "name": "python",
   "nbconvert_exporter": "python",
   "pygments_lexer": "ipython3",
   "version": "3.7.6"
  }
 },
 "nbformat": 4,
 "nbformat_minor": 4
}
