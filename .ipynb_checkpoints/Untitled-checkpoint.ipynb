{
 "cells": [
  {
   "cell_type": "code",
   "execution_count": 11,
   "metadata": {},
   "outputs": [
    {
     "name": "stdout",
     "output_type": "stream",
     "text": [
      "000006.jpg\n",
      "000007.jpg\n",
      "000009.jpg\n",
      "000012.jpg\n",
      "000015.jpg\n",
      "000016.jpg\n",
      "000017.jpg\n",
      "000018.jpg\n",
      "000020.jpg\n",
      "000021.jpg\n",
      "000022.jpg\n",
      "000023.jpg\n",
      "000024.jpg\n",
      "000025.jpg\n",
      "000026.jpg\n",
      "000027.jpg\n",
      "000028.jpg\n",
      "000029.jpg\n",
      "000030.jpg\n",
      "000032.jpg\n",
      "000033.jpg\n",
      "000034.jpg\n",
      "000035.jpg\n",
      "000036.jpg\n",
      "000037.jpg\n",
      "000038.jpg\n",
      "000039.jpg\n",
      "000040.jpg\n",
      "000041.jpg\n",
      "000043.jpg\n",
      "000044.jpg\n",
      "000047.jpg\n",
      "000052.jpg\n",
      "000053.jpg\n",
      "000058.jpg\n",
      "000094.jpg\n",
      "000097.jpg\n",
      "000100.jpg\n",
      "000101.jpg\n",
      "000102.jpg\n",
      "000103.jpg\n",
      "000104.jpg\n",
      "000105.jpg\n",
      "000106.jpg\n",
      "000107.jpg\n",
      "000108.jpg\n",
      "000109.jpg\n",
      "000110.jpg\n",
      "000111.jpg\n",
      "000112.jpg\n",
      "000114.jpg\n",
      "000115.jpg\n",
      "000116.jpg\n",
      "000118.jpg\n",
      "000121.jpg\n",
      "000122.jpg\n",
      "000123.jpg\n",
      "000124.jpg\n",
      "000125.jpg\n",
      "000126.jpg\n",
      "000127.jpg\n",
      "000128.jpg\n",
      "000129.jpg\n",
      "000130.jpg\n",
      "000131.jpg\n",
      "000132.jpg\n"
     ]
    },
    {
     "name": "stderr",
     "output_type": "stream",
     "text": [
      "/Users/shoya/opt/anaconda3/lib/python3.7/site-packages/ipykernel_launcher.py:84: UserWarning: Update your `Model` call to the Keras 2 API: `Model(inputs=Tensor(\"in..., outputs=Tensor(\"se...)`\n"
     ]
    },
    {
     "name": "stdout",
     "output_type": "stream",
     "text": [
      "Train on 323 samples, validate on 81 samples\n",
      "Epoch 1/10\n",
      "323/323 [==============================] - 8s 24ms/step - loss: 20.3591 - accuracy: 0.2848 - val_loss: 3.5148 - val_accuracy: 0.3704\n",
      "Epoch 2/10\n",
      "323/323 [==============================] - 8s 24ms/step - loss: 3.5320 - accuracy: 0.3746 - val_loss: 1.5994 - val_accuracy: 0.3704\n",
      "Epoch 3/10\n",
      "323/323 [==============================] - 8s 23ms/step - loss: 1.6321 - accuracy: 0.2848 - val_loss: 1.5072 - val_accuracy: 0.3333\n",
      "Epoch 4/10\n",
      "323/323 [==============================] - 8s 24ms/step - loss: 1.5786 - accuracy: 0.2384 - val_loss: 1.5038 - val_accuracy: 0.3086\n",
      "Epoch 5/10\n",
      "323/323 [==============================] - 8s 24ms/step - loss: 1.5430 - accuracy: 0.2539 - val_loss: 1.4699 - val_accuracy: 0.3210\n",
      "Epoch 6/10\n",
      "323/323 [==============================] - 8s 25ms/step - loss: 1.5391 - accuracy: 0.2663 - val_loss: 1.4720 - val_accuracy: 0.3210\n",
      "Epoch 7/10\n",
      "323/323 [==============================] - 8s 26ms/step - loss: 1.4936 - accuracy: 0.2848 - val_loss: 1.4994 - val_accuracy: 0.3086\n",
      "Epoch 8/10\n",
      "323/323 [==============================] - 9s 29ms/step - loss: 1.4917 - accuracy: 0.2879 - val_loss: 1.5247 - val_accuracy: 0.3086\n",
      "Epoch 9/10\n",
      "323/323 [==============================] - 10s 32ms/step - loss: 1.4972 - accuracy: 0.2601 - val_loss: 1.5727 - val_accuracy: 0.2840\n",
      "Epoch 10/10\n",
      "323/323 [==============================] - 10s 30ms/step - loss: 1.5052 - accuracy: 0.2663 - val_loss: 1.5470 - val_accuracy: 0.2840\n"
     ]
    }
   ],
   "source": [
    "import os\n",
    "import cv2\n",
    "import numpy as np\n",
    "import matplotlib.pyplot as plt\n",
    "from keras.utils.np_utils import to_categorical\n",
    "from keras.layers import Dense, Dropout, Flatten, Input\n",
    "from keras.applications.vgg16 import VGG16\n",
    "from keras.models import Model, Sequential\n",
    "from keras import optimizers\n",
    "number = 100\n",
    "\n",
    "# jupyter_contentsディレクトリで\n",
    "# $ jupyter notebook\n",
    "# としてjupyterを起動した場合、以下でファイルパスの取得ができます。\n",
    "path_pinapple = sorted([filename for filename in os.listdir('./fruits_photo/pinapple/') if not filename.startswith('.')])  \n",
    "path_grape = sorted([filename for filename in os.listdir('./fruits_photo/grape/') if not filename.startswith('.')])  \n",
    "path_banana = sorted([filename for filename in os.listdir('./fruits_photo/banana/') if not filename.startswith('.')])  \n",
    "path_pear = sorted([filename for filename in os.listdir('./fruits_photo/pear/') if not filename.startswith('.')])  \n",
    "path_mongo = sorted([filename for filename in os.listdir('./fruits_photo/mongo/') if not filename.startswith('.')])  \n",
    "\n",
    "\n",
    "img_pinapple = []\n",
    "img_grape = []\n",
    "img_banana = []\n",
    "img_pear = []\n",
    "img_mongo = []\n",
    "\n",
    "for i in range(len(path_pinapple)):\n",
    "    img = cv2.imread('./fruits_photo/pinapple/' + path_pinapple[i])\n",
    "    img = cv2.resize(img, (50,50))\n",
    "    img_pinapple.append(img)\n",
    "\n",
    "for i in range(len(path_grape)):\n",
    "    img = cv2.imread('./fruits_photo/grape/' + path_grape[i])\n",
    "    img = cv2.resize(img, (50,50))\n",
    "    img_grape.append(img)\n",
    "    \n",
    "for i in range(len(path_banana)):\n",
    "    img = cv2.imread('./fruits_photo/banana/' + path_banana[i])\n",
    "    img = cv2.resize(img, (50,50))\n",
    "    img_banana.append(img)\n",
    "    \n",
    "for i in range(len(path_pear)):\n",
    "    img = cv2.imread('./fruits_photo/pear/' + path_pear[i])\n",
    "    img = cv2.resize(img, (50,50))\n",
    "    img_pear.append(img)\n",
    "    \n",
    "for i in range(len(path_mongo)):\n",
    "    img = cv2.imread('./fruits_photo/mongo/' + path_mongo[i])\n",
    "    img = cv2.resize(img, (50,50))\n",
    "    img_mongo.append(img)\n",
    "    \n",
    "X = np.array(img_pinapple + img_grape + img_banana + img_pear + img_mongo)\n",
    "y =  np.array([0]*len(img_pinapple) + [1]*len(img_grape) +[2]*len(img_banana) + [3]*len(img_pear) + [4]*len(img_mongo))\n",
    "\n",
    "rand_index = np.random.permutation(np.arange(len(X)))\n",
    "X = X[rand_index]\n",
    "y = y[rand_index]\n",
    "\n",
    "# データの分割\n",
    "X_train = X[:int(len(X)*0.8)]\n",
    "y_train = y[:int(len(y)*0.8)]\n",
    "X_test = X[int(len(X)*0.8):]\n",
    "y_test = y[int(len(y)*0.8):]\n",
    "\n",
    "# 正解ラベルをone-hotの形にします\n",
    "y_train = to_categorical(y_train)\n",
    "y_test = to_categorical(y_test)\n",
    "\n",
    "# モデルにvggを使います\n",
    "input_tensor = Input(shape=(50, 50, 3))\n",
    "vgg16 = VGG16(include_top=False, weights='imagenet', input_tensor=input_tensor)\n",
    "\n",
    "# vggのoutputを受け取り、2クラス分類する層を定義します\n",
    "# その際中間層を下のようにいくつか入れると精度が上がります\n",
    "top_model = Sequential()\n",
    "top_model.add(Flatten(input_shape=vgg16.output_shape[1:]))\n",
    "top_model.add(Dense(256, activation='relu'))\n",
    "top_model.add(Dropout(0.5))\n",
    "top_model.add(Dense(5, activation='softmax'))\n",
    "\n",
    "# vggと、top_modelを連結します\n",
    "model = Model(input=vgg16.input, output=top_model(vgg16.output))\n",
    "\n",
    "# vggの層の重みを変更不能にします\n",
    "for layer in model.layers[:15]:\n",
    "    layer.trainable = False\n",
    "\n",
    "# コンパイルします\n",
    "model.compile(loss='categorical_crossentropy',\n",
    "              optimizer=optimizers.SGD(lr=1e-4, momentum=0.9),\n",
    "              metrics=['accuracy'])\n",
    "\n",
    "\n",
    "# 学習の実行\n",
    "model.fit(X_train, y_train, batch_size=100, epochs=10, validation_data=(X_test, y_test))\n",
    "model.save('model.h5')"
   ]
  },
  {
   "cell_type": "code",
   "execution_count": 6,
   "metadata": {},
   "outputs": [
    {
     "data": {
      "text/plain": [
       "'2.2.0'"
      ]
     },
     "execution_count": 6,
     "metadata": {},
     "output_type": "execute_result"
    }
   ],
   "source": [
    "import tensorflow \n",
    "tensorflow.__version__"
   ]
  },
  {
   "cell_type": "code",
   "execution_count": 5,
   "metadata": {},
   "outputs": [
    {
     "name": "stderr",
     "output_type": "stream",
     "text": [
      "Using TensorFlow backend.\n"
     ]
    },
    {
     "data": {
      "text/plain": [
       "'2.3.1'"
      ]
     },
     "execution_count": 5,
     "metadata": {},
     "output_type": "execute_result"
    }
   ],
   "source": [
    "import keras\n",
    "keras.__version__"
   ]
  },
  {
   "cell_type": "code",
   "execution_count": 9,
   "metadata": {},
   "outputs": [
    {
     "name": "stdout",
     "output_type": "stream",
     "text": [
      "Found existing installation: Keras 2.2.4\n",
      "Uninstalling Keras-2.2.4:\n",
      "  Would remove:\n",
      "    /Users/shoya/.pyenv/versions/3.7.5/lib/python3.7/site-packages/Keras-2.2.4.dist-info/*\n",
      "    /Users/shoya/.pyenv/versions/3.7.5/lib/python3.7/site-packages/docs/*\n",
      "    /Users/shoya/.pyenv/versions/3.7.5/lib/python3.7/site-packages/keras/*\n",
      "Proceed (y/n)? ^C\n",
      "\u001b[31mERROR: Operation cancelled by user\u001b[0m\n"
     ]
    }
   ],
   "source": [
    "! pip uninstall keras && pip install keras==2.2.4 && pip uninstall tensorflow && pip install tensorflow==1.13.1"
   ]
  },
  {
   "cell_type": "code",
   "execution_count": 10,
   "metadata": {},
   "outputs": [
    {
     "name": "stdout",
     "output_type": "stream",
     "text": [
      "Found existing installation: Keras 2.2.4\n",
      "Uninstalling Keras-2.2.4:\n",
      "  Successfully uninstalled Keras-2.2.4\n",
      "Collecting keras==2.2.4\n",
      "  Using cached Keras-2.2.4-py2.py3-none-any.whl (312 kB)\n",
      "Requirement already satisfied: h5py in /Users/shoya/.pyenv/versions/3.7.5/lib/python3.7/site-packages (from keras==2.2.4) (2.10.0)\n",
      "Requirement already satisfied: keras-preprocessing>=1.0.5 in /Users/shoya/.pyenv/versions/3.7.5/lib/python3.7/site-packages (from keras==2.2.4) (1.1.2)\n",
      "Requirement already satisfied: six>=1.9.0 in /Users/shoya/.pyenv/versions/3.7.5/lib/python3.7/site-packages (from keras==2.2.4) (1.15.0)\n",
      "Requirement already satisfied: pyyaml in /Users/shoya/.pyenv/versions/3.7.5/lib/python3.7/site-packages (from keras==2.2.4) (5.3.1)\n",
      "Requirement already satisfied: scipy>=0.14 in /Users/shoya/.pyenv/versions/3.7.5/lib/python3.7/site-packages (from keras==2.2.4) (1.4.1)\n",
      "Requirement already satisfied: numpy>=1.9.1 in /Users/shoya/.pyenv/versions/3.7.5/lib/python3.7/site-packages (from keras==2.2.4) (1.19.0)\n",
      "Requirement already satisfied: keras-applications>=1.0.6 in /Users/shoya/.pyenv/versions/3.7.5/lib/python3.7/site-packages (from keras==2.2.4) (1.0.8)\n",
      "Installing collected packages: keras\n",
      "Successfully installed keras-2.2.4\n",
      "Found existing installation: tensorflow 1.13.1\n",
      "Uninstalling tensorflow-1.13.1:\n",
      "  Successfully uninstalled tensorflow-1.13.1\n",
      "Collecting tensorflow==1.13.1\n",
      "  Using cached tensorflow-1.13.1-cp37-cp37m-macosx_10_11_x86_64.whl (73.6 MB)\n",
      "Requirement already satisfied: gast>=0.2.0 in /Users/shoya/.pyenv/versions/3.7.5/lib/python3.7/site-packages (from tensorflow==1.13.1) (0.3.3)\n",
      "Requirement already satisfied: tensorflow-estimator<1.14.0rc0,>=1.13.0 in /Users/shoya/.pyenv/versions/3.7.5/lib/python3.7/site-packages (from tensorflow==1.13.1) (1.13.0)\n",
      "Requirement already satisfied: astor>=0.6.0 in /Users/shoya/.pyenv/versions/3.7.5/lib/python3.7/site-packages (from tensorflow==1.13.1) (0.8.1)\n",
      "Requirement already satisfied: protobuf>=3.6.1 in /Users/shoya/.pyenv/versions/3.7.5/lib/python3.7/site-packages (from tensorflow==1.13.1) (3.12.2)\n",
      "Requirement already satisfied: wheel>=0.26 in /Users/shoya/.pyenv/versions/3.7.5/lib/python3.7/site-packages (from tensorflow==1.13.1) (0.34.2)\n",
      "Requirement already satisfied: grpcio>=1.8.6 in /Users/shoya/.pyenv/versions/3.7.5/lib/python3.7/site-packages (from tensorflow==1.13.1) (1.30.0)\n",
      "Requirement already satisfied: numpy>=1.13.3 in /Users/shoya/.pyenv/versions/3.7.5/lib/python3.7/site-packages (from tensorflow==1.13.1) (1.19.0)\n",
      "Requirement already satisfied: termcolor>=1.1.0 in /Users/shoya/.pyenv/versions/3.7.5/lib/python3.7/site-packages (from tensorflow==1.13.1) (1.1.0)\n",
      "Requirement already satisfied: tensorboard<1.14.0,>=1.13.0 in /Users/shoya/.pyenv/versions/3.7.5/lib/python3.7/site-packages (from tensorflow==1.13.1) (1.13.1)\n",
      "Requirement already satisfied: keras-applications>=1.0.6 in /Users/shoya/.pyenv/versions/3.7.5/lib/python3.7/site-packages (from tensorflow==1.13.1) (1.0.8)\n",
      "Requirement already satisfied: absl-py>=0.1.6 in /Users/shoya/.pyenv/versions/3.7.5/lib/python3.7/site-packages (from tensorflow==1.13.1) (0.9.0)\n",
      "Requirement already satisfied: six>=1.10.0 in /Users/shoya/.pyenv/versions/3.7.5/lib/python3.7/site-packages (from tensorflow==1.13.1) (1.15.0)\n",
      "Requirement already satisfied: keras-preprocessing>=1.0.5 in /Users/shoya/.pyenv/versions/3.7.5/lib/python3.7/site-packages (from tensorflow==1.13.1) (1.1.2)\n",
      "Requirement already satisfied: mock>=2.0.0 in /Users/shoya/.pyenv/versions/3.7.5/lib/python3.7/site-packages (from tensorflow-estimator<1.14.0rc0,>=1.13.0->tensorflow==1.13.1) (4.0.2)\n",
      "Requirement already satisfied: setuptools in /Users/shoya/.pyenv/versions/3.7.5/lib/python3.7/site-packages (from protobuf>=3.6.1->tensorflow==1.13.1) (41.2.0)\n",
      "Requirement already satisfied: werkzeug>=0.11.15 in /Users/shoya/.pyenv/versions/3.7.5/lib/python3.7/site-packages (from tensorboard<1.14.0,>=1.13.0->tensorflow==1.13.1) (1.0.1)\n",
      "Requirement already satisfied: markdown>=2.6.8 in /Users/shoya/.pyenv/versions/3.7.5/lib/python3.7/site-packages (from tensorboard<1.14.0,>=1.13.0->tensorflow==1.13.1) (3.2.2)\n",
      "Requirement already satisfied: h5py in /Users/shoya/.pyenv/versions/3.7.5/lib/python3.7/site-packages (from keras-applications>=1.0.6->tensorflow==1.13.1) (2.10.0)\n",
      "Requirement already satisfied: importlib-metadata; python_version < \"3.8\" in /Users/shoya/.pyenv/versions/3.7.5/lib/python3.7/site-packages (from markdown>=2.6.8->tensorboard<1.14.0,>=1.13.0->tensorflow==1.13.1) (1.7.0)\n",
      "Requirement already satisfied: zipp>=0.5 in /Users/shoya/.pyenv/versions/3.7.5/lib/python3.7/site-packages (from importlib-metadata; python_version < \"3.8\"->markdown>=2.6.8->tensorboard<1.14.0,>=1.13.0->tensorflow==1.13.1) (3.1.0)\n",
      "Installing collected packages: tensorflow\n",
      "Successfully installed tensorflow-1.13.1\n"
     ]
    }
   ],
   "source": [
    "! pip uninstall  -y keras && pip install  keras==2.2.4 && pip uninstall -y tensorflow && pip install tensorflow==1.13.1"
   ]
  },
  {
   "cell_type": "code",
   "execution_count": 11,
   "metadata": {},
   "outputs": [
    {
     "ename": "SyntaxError",
     "evalue": "invalid syntax (<ipython-input-11-328cc45e53ab>, line 1)",
     "output_type": "error",
     "traceback": [
      "\u001b[0;36m  File \u001b[0;32m\"<ipython-input-11-328cc45e53ab>\"\u001b[0;36m, line \u001b[0;32m1\u001b[0m\n\u001b[0;31m    python original.py\u001b[0m\n\u001b[0m                  ^\u001b[0m\n\u001b[0;31mSyntaxError\u001b[0m\u001b[0;31m:\u001b[0m invalid syntax\n"
     ]
    }
   ],
   "source": [
    "python original.py"
   ]
  },
  {
   "cell_type": "code",
   "execution_count": null,
   "metadata": {},
   "outputs": [],
   "source": []
  }
 ],
 "metadata": {
  "kernelspec": {
   "display_name": "Python 3",
   "language": "python",
   "name": "python3"
  },
  "language_info": {
   "codemirror_mode": {
    "name": "ipython",
    "version": 3
   },
   "file_extension": ".py",
   "mimetype": "text/x-python",
   "name": "python",
   "nbconvert_exporter": "python",
   "pygments_lexer": "ipython3",
   "version": "3.7.6"
  }
 },
 "nbformat": 4,
 "nbformat_minor": 4
}
